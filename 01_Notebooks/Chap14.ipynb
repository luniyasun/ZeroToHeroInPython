{
 "cells": [
  {
   "cell_type": "markdown",
   "metadata": {},
   "source": [
    "\n",
    "# modules.py\n"
   ]
  },
  {
   "cell_type": "code",
   "execution_count": null,
   "metadata": {},
   "outputs": [],
   "source": [
    "#!/usr/bin/env python3\n",
    "# Copyright 2009-2017 BHG http://bw.org/\n",
    "\n",
    "import sys\n",
    "import os\n",
    "\n",
    "def main():\n",
    "    v = sys.version_info\n",
    "    print('Python version {}.{}.{}'.format(*v))\n",
    "    \n",
    "    v = sys.platform\n",
    "    print(v)\n",
    "    \n",
    "    v = os.name\n",
    "    print(v)\n",
    "    \n",
    "    v = os.getenv('PATH')\n",
    "    print(v)\n",
    "    \n",
    "    v = os.getcwd()\n",
    "    print(v)\n",
    "    \n",
    "    v = os.urandom(25).hex()\n",
    "    print(v)\n",
    "   \n",
    "\n",
    "if __name__ == '__main__': main()\n"
   ]
  },
  {
   "cell_type": "code",
   "execution_count": null,
   "metadata": {},
   "outputs": [],
   "source": [
    "import random\n",
    "\n",
    "def main():\n",
    "    x = random.randint(1, 1000)\n",
    "    print(x)\n",
    "    \n",
    "    x = list(range(25))\n",
    "    random.shuffle(x)\n",
    "    print(x)\n",
    "    \n",
    "if __name__ == '__main__': main()"
   ]
  },
  {
   "cell_type": "code",
   "execution_count": null,
   "metadata": {},
   "outputs": [],
   "source": [
    "import datetime\n",
    "\n",
    "def main():\n",
    "    now = datetime.datetime.now()\n",
    "    print(now)\n",
    "    print(now.year, now.month, now.minute, now.second, now.microsecond)\n",
    "    print()\n",
    "        \n",
    "if __name__ == '__main__' : main()"
   ]
  }
 ],
 "metadata": {
  "kernelspec": {
   "display_name": "Python 3",
   "language": "python",
   "name": "python3"
  },
  "language_info": {
   "codemirror_mode": {
    "name": "ipython",
    "version": 3
   },
   "file_extension": ".py",
   "mimetype": "text/x-python",
   "name": "python",
   "nbconvert_exporter": "python",
   "pygments_lexer": "ipython3",
   "version": "3.6.6"
  }
 },
 "nbformat": 4,
 "nbformat_minor": 2
}
