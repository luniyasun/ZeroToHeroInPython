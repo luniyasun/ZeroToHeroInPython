{
 "cells": [
  {
   "cell_type": "markdown",
   "metadata": {},
   "source": [
    "\n",
    "# hello.py\n"
   ]
  },
  {
   "cell_type": "code",
   "execution_count": null,
   "metadata": {},
   "outputs": [],
   "source": [
    "#!/usr/bin/env python3\n",
    "# Copyright 2009-2017 BHG http://bw.org/\n",
    "\n",
    "print('Hello, World.'.upper())\n",
    "print('Hello, World.'.swapcase())\n",
    "print(\"\"\"\n",
    "Hello, \n",
    "World. \n",
    "\n",
    "{}\n",
    "\n",
    "\"\"\".format(42 * 7))\n",
    "\n",
    "s = 'Hello, World {}'\n",
    "print(s.format(42 * 7))"
   ]
  },
  {
   "cell_type": "code",
   "execution_count": null,
   "metadata": {},
   "outputs": [],
   "source": [
    "# Sub-class String \n",
    "\n",
    "class MyString(str):\n",
    "    def __str__(self):\n",
    "        return self[::-1]\n",
    "\n",
    "s = MyString('Hello, World')\n",
    "    \n",
    "print(s)\n"
   ]
  },
  {
   "cell_type": "markdown",
   "metadata": {},
   "source": [
    "\n",
    "# hello.py (common string methods)\n"
   ]
  },
  {
   "cell_type": "code",
   "execution_count": null,
   "metadata": {},
   "outputs": [],
   "source": [
    "#!/usr/bin/env python3\n",
    "# Copyright 2009-2017 BHG http://bw.org/\n",
    "\n",
    "print('Hello, World.'.upper())\n",
    "print('Hello, World.'.lower())\n",
    "print('Hello, World.'.capitalize())\n",
    "print('Hello, World.'.title())\n",
    "print('Hello, World.'.swapcase())\n",
    "print('Hello, World. straẞe'.casefold())\n",
    "\n",
    "# strings are immutable\n",
    "s1 = 'Hello, World'\n",
    "s2 = s1.upper()\n",
    "\n",
    "print(id(s1))\n",
    "print(id(s2))\n",
    "\n",
    "# concatenate\n",
    "s1 = 'Hello, World'\n",
    "s2 = 'this is another string'\n",
    "print(s1 + ' ' + s2)\n",
    "\n",
    "s3 = 'this string' ' that string'\n",
    "print(s3)\n"
   ]
  },
  {
   "cell_type": "markdown",
   "metadata": {},
   "source": [
    "\n",
    "# python documentation \n",
    "# http://docs.python.org/3/library/stdtypes.html\n"
   ]
  },
  {
   "cell_type": "markdown",
   "metadata": {},
   "source": [
    "\n",
    "# hello.py (Formatting Strings)\n"
   ]
  },
  {
   "cell_type": "code",
   "execution_count": null,
   "metadata": {},
   "outputs": [],
   "source": [
    "#!/usr/bin/env python3\n",
    "# Copyright 2009-2017 BHG http://bw.org/\n",
    "\n",
    "x = 42\n",
    "y = 73\n",
    "print('the number is {bb} {xx}'.format(xx = x, bb = y))\n",
    "\n",
    "# repeat variables\n",
    "print('the number is {0} {1} {0}'.format(x, y))\n",
    "\n",
    "# formatting instructions\n",
    "print('the number is {0:<5} {1:>5}'.format(x, y))\n",
    "print('the number is {0:<5} {1:>05}'.format(x, y))\n",
    "print('the number is {0:<5} {1:+}'.format(x, y))\n",
    "print('the number is {0:<5} {1:>+05}'.format(x, y))\n",
    "\n",
    "x = 42 * 747 * 1000\n",
    "print('the number is {:,}'.format(x))\n",
    "print('the number is {:,}'.format(x).replace(',','.'))\n",
    "\n",
    "x = 42 \n",
    "print('the number is {:.3f}'.format(x))\n",
    "\n",
    "# specify base\n",
    "print('the number is {:x}'.format(x))   # Hexadecimal\n",
    "print('the number is {:o}'.format(x))   # octal\n",
    "print('the number is {:b}'.format(x))   # binary\n",
    "\n",
    "# f strings\n",
    "print(f'the number is {x}') \n",
    "print(f'the number is {x:.3f}') "
   ]
  },
  {
   "cell_type": "markdown",
   "metadata": {},
   "source": [
    "\n",
    "# http://docs.python.org/3/library/string.html\n"
   ]
  },
  {
   "cell_type": "markdown",
   "metadata": {},
   "source": [
    "\n",
    "# split-join.py\n"
   ]
  },
  {
   "cell_type": "code",
   "execution_count": null,
   "metadata": {},
   "outputs": [],
   "source": [
    "#!/usr/bin/env python3\n",
    "# Copyright 2009-2017 BHG http://bw.org/\n",
    "\n",
    "# split to list\n",
    "s = 'This is a long string with a bunch of words in it.'\n",
    "print(s.split())  \n",
    "\n",
    "s = '''This is a      long \n",
    "string    with a bunch of words in it.'''\n",
    "print(s.split())\n",
    "\n",
    "# split at 'i'\n",
    "s = 'This is a long string with a bunch of words in it.'\n",
    "print(s.split('i'))\n",
    "\n",
    "# join\n",
    "l = s.split()\n",
    "s2 = ':'.join(l)\n",
    "print(s2)\n",
    "\n",
    "s2 = ' -- '.join(l)\n",
    "print(s2)\n",
    "\n",
    "# "
   ]
  }
 ],
 "metadata": {
  "kernelspec": {
   "display_name": "Python 3",
   "language": "python",
   "name": "python3"
  },
  "language_info": {
   "codemirror_mode": {
    "name": "ipython",
    "version": 3
   },
   "file_extension": ".py",
   "mimetype": "text/x-python",
   "name": "python",
   "nbconvert_exporter": "python",
   "pygments_lexer": "ipython3",
   "version": "3.6.6"
  }
 },
 "nbformat": 4,
 "nbformat_minor": 2
}
