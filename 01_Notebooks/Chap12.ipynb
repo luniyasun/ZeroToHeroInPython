{
 "cells": [
  {
   "cell_type": "markdown",
   "metadata": {},
   "source": [
    "\n",
    "# files.py\n"
   ]
  },
  {
   "cell_type": "code",
   "execution_count": null,
   "metadata": {},
   "outputs": [],
   "source": [
    "#!/usr/bin/env python3\n",
    "# Copyright 2009-2017 BHG http://bw.org/\n",
    "\n",
    "def main():\n",
    "    f = open('lines.txt', 'r')  # r=read only (default), w = write, a = append, +b = binary, +t = text\n",
    "    for line in f:\n",
    "        print(line.rstrip())\n",
    "\n",
    "if __name__ == '__main__': main()\n"
   ]
  },
  {
   "cell_type": "markdown",
   "metadata": {},
   "source": [
    "\n",
    "# copy-text.py\n"
   ]
  },
  {
   "cell_type": "code",
   "execution_count": null,
   "metadata": {},
   "outputs": [],
   "source": [
    "#!/usr/bin/env python3\n",
    "# Copyright 2009-2017 BHG http://bw.org/\n",
    "\n",
    "def main():\n",
    "    infile = open('lines.txt', 'rt')\n",
    "    outfile = open('lines-copy.txt', 'wt')\n",
    "    for line in infile:\n",
    "        # print(line.rstrip(), file=outfile)\n",
    "        outfile.writelines(line)\n",
    "        print('.', end='', flush=True)\n",
    "    outfile.close()\n",
    "    infile.close()\n",
    "    print('\\ndone.')\n",
    "\n",
    "if __name__ == '__main__': main()\n"
   ]
  },
  {
   "cell_type": "markdown",
   "metadata": {},
   "source": [
    "\n",
    "# copy-bin.py\n"
   ]
  },
  {
   "cell_type": "code",
   "execution_count": null,
   "metadata": {},
   "outputs": [],
   "source": [
    "#!/usr/bin/env python3\n",
    "# Copyright 2009-2017 BHG http://bw.org/\n",
    "\n",
    "def main():\n",
    "    infile = open('berlin.jpg', 'rb')\n",
    "    outfile = open('berlin-copy.jpg', 'wb')\n",
    "    while True:\n",
    "        buf = infile.read(10240)\n",
    "        if buf:\n",
    "            outfile.write(buf)\n",
    "            print('.', end='', flush=True)\n",
    "        else: break\n",
    "    outfile.close()\n",
    "    print('\\ndone.')\n",
    "\n",
    "if __name__ == '__main__': main()\n"
   ]
  }
 ],
 "metadata": {
  "kernelspec": {
   "display_name": "Python 3",
   "language": "python",
   "name": "python3"
  },
  "language_info": {
   "codemirror_mode": {
    "name": "ipython",
    "version": 3
   },
   "file_extension": ".py",
   "mimetype": "text/x-python",
   "name": "python",
   "nbconvert_exporter": "python",
   "pygments_lexer": "ipython3",
   "version": "3.6.6"
  }
 },
 "nbformat": 4,
 "nbformat_minor": 2
}
