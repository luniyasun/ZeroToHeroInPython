{
 "cells": [
  {
   "cell_type": "markdown",
   "metadata": {},
   "source": [
    "\n",
    "# while.py\n"
   ]
  },
  {
   "cell_type": "code",
   "execution_count": null,
   "metadata": {},
   "outputs": [],
   "source": [
    "#!/usr/bin/env python3\n",
    "# Copyright 2009-2017 BHG http://bw.org/\n",
    "\n",
    "secret = 'swordfish'\n",
    "pw = ''\n",
    "\n",
    "while pw != secret:\n",
    "    pw = input(\"What's the secret word? \")\n"
   ]
  },
  {
   "cell_type": "markdown",
   "metadata": {},
   "source": [
    "\n",
    "# for.py\n"
   ]
  },
  {
   "cell_type": "code",
   "execution_count": null,
   "metadata": {},
   "outputs": [],
   "source": [
    "#!/usr/bin/env python3\n",
    "# Copyright 2009-2017 BHG http://bw.org/\n",
    "\n",
    "animals = ( 'bear', 'bunny', 'dog', 'cat', 'velociraptor' )\n",
    "\n",
    "for pet in animals:\n",
    "    print(pet)\n"
   ]
  },
  {
   "cell_type": "markdown",
   "metadata": {},
   "source": [
    "\n",
    "# while.py (Continue, else, break)\n"
   ]
  },
  {
   "cell_type": "code",
   "execution_count": null,
   "metadata": {},
   "outputs": [],
   "source": [
    "#!/usr/bin/env python3\n",
    "# Copyright 2009-2017 BHG http://bw.org/\n",
    "\n",
    "secret = 'swordfish'\n",
    "pw = ''\n",
    "auth = False\n",
    "count = 0\n",
    "max_attempt = 5\n",
    "\n",
    "while pw != secret:\n",
    "    count += 1\n",
    "    if count > max_attempt: break    # break out of loop and skip the else clause\n",
    "    if count == 3: continue          # skips the rest of loop\n",
    "    pw = input(f\"{count}: What's the secret word? \")\n",
    "else:\n",
    "    auth = True\n",
    "    \n",
    "print(\"Authorized\" if auth else \"Calling the FBI ... \")\n"
   ]
  },
  {
   "cell_type": "markdown",
   "metadata": {},
   "source": [
    "\n",
    "# for.py (Continue, else, break)\n"
   ]
  },
  {
   "cell_type": "code",
   "execution_count": null,
   "metadata": {},
   "outputs": [],
   "source": [
    "#!/usr/bin/env python3\n",
    "# Copyright 2009-2017 BHG http://bw.org/\n",
    "\n",
    "animals = ( 'bear', 'bunny', 'dog', 'cat', 'velociraptor' )\n",
    "\n",
    "for pet in animals:\n",
    "    if pet == 'dog': continue\n",
    "    if pet == 'velociraptor': break\n",
    "    print(pet)\n",
    "else: \n",
    "    print('that is all of the animals')"
   ]
  }
 ],
 "metadata": {
  "kernelspec": {
   "display_name": "Python 3",
   "language": "python",
   "name": "python3"
  },
  "language_info": {
   "codemirror_mode": {
    "name": "ipython",
    "version": 3
   },
   "file_extension": ".py",
   "mimetype": "text/x-python",
   "name": "python",
   "nbconvert_exporter": "python",
   "pygments_lexer": "ipython3",
   "version": "3.6.6"
  }
 },
 "nbformat": 4,
 "nbformat_minor": 2
}
