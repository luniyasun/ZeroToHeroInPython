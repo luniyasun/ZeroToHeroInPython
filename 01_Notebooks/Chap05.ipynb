{
 "cells": [
  {
   "cell_type": "markdown",
   "metadata": {},
   "source": [
    "\n",
    "# arithmetic.py\n"
   ]
  },
  {
   "cell_type": "code",
   "execution_count": null,
   "metadata": {},
   "outputs": [],
   "source": [
    "#!/usr/bin/env python3\n",
    "# Copyright 2009-2017 BHG http://bw.org/\n",
    "\n",
    "x = 5\n",
    "y = 3\n",
    "\n",
    "z = x + y\n",
    "print(f'result is {z}')\n",
    "\n",
    "z = x - y\n",
    "print(f'result is {z}')\n",
    "\n",
    "z = x * y\n",
    "print(f'result is {z}')\n",
    "\n",
    "z = x / y\n",
    "print(f'result is {z}')\n",
    "\n",
    "z = x // y\n",
    "print(f'result is {z}')\n",
    "\n",
    "z = x % y\n",
    "print(f'result is {z}')\n",
    "\n",
    "z = -z\n",
    "print(f'result is {z}')\n",
    "\n",
    "z = +z\n",
    "print(f'result is {z}')"
   ]
  },
  {
   "cell_type": "markdown",
   "metadata": {},
   "source": [
    "\n",
    "# bitwise.py\n"
   ]
  },
  {
   "cell_type": "code",
   "execution_count": null,
   "metadata": {},
   "outputs": [],
   "source": [
    "#!/usr/bin/env python3\n",
    "# Copyright 2009-2017 BHG http://bw.org/\n",
    "\n",
    "x = 0x0a\n",
    "y = 0x02\n",
    "z = x & y\n",
    "\n",
    "print(f'(hex) x is {x:02x}, y is {y:02x}, z is {z:02x}')\n",
    "print(f'(bin) x is {x:08b}, y is {y:08b}, z is {z:08b}')\n"
   ]
  },
  {
   "cell_type": "code",
   "execution_count": null,
   "metadata": {},
   "outputs": [],
   "source": [
    "# Bitwise OR \n",
    "x = 0x0a\n",
    "y = 0x05\n",
    "z = x | y\n",
    "\n",
    "print(f'(hex) x is {x:02x}, y is {y:02x}, z is {z:02x}')\n",
    "print(f'(bin) x is {x:08b}, y is {y:08b}, z is {z:08b}')"
   ]
  },
  {
   "cell_type": "code",
   "execution_count": null,
   "metadata": {},
   "outputs": [],
   "source": [
    "# Bitwise exclusive OR\n",
    "x = 0x0a\n",
    "y = 0x0f\n",
    "z = x ^ y\n",
    "\n",
    "print(f'(hex) x is {x:02x}, y is {y:02x}, z is {z:02x}')\n",
    "print(f'(bin) x is {x:08b}, y is {y:08b}, z is {z:08b}')"
   ]
  },
  {
   "cell_type": "code",
   "execution_count": null,
   "metadata": {},
   "outputs": [],
   "source": [
    "# bitwise shift left\n",
    "\n",
    "x = 0x0a\n",
    "y = 0x01\n",
    "z = x << y\n",
    "\n",
    "print(f'(hex) x is {x:02x}, y is {y:02x}, z is {z:02x}')\n",
    "print(f'(bin) x is {x:08b}, y is {y:08b}, z is {z:08b}')"
   ]
  },
  {
   "cell_type": "code",
   "execution_count": null,
   "metadata": {},
   "outputs": [],
   "source": [
    "# bitwise shift right\n",
    "\n",
    "x = 0x0a\n",
    "y = 0x01\n",
    "z = x >> y\n",
    "\n",
    "print(f'(hex) x is {x:02x}, y is {y:02x}, z is {z:02x}')\n",
    "print(f'(bin) x is {x:08b}, y is {y:08b}, z is {z:08b}')"
   ]
  },
  {
   "cell_type": "markdown",
   "metadata": {},
   "source": [
    "\n",
    "# comparison.py\n"
   ]
  },
  {
   "cell_type": "code",
   "execution_count": null,
   "metadata": {},
   "outputs": [],
   "source": [
    "#!/usr/bin/env python3\n",
    "# Copyright 2009-2017 BHG http://bw.org/\n",
    "\n",
    "x = 42\n",
    "y = 73\n",
    "\n",
    "if x <= y:\n",
    "    print('comparison is true')\n",
    "else:\n",
    "    print('comparison is false')\n",
    "\n",
    "    \n",
    "if x >= y:\n",
    "    print('comparison is true')\n",
    "else:\n",
    "    print('comparison is false')\n",
    "\n",
    "if x == y:\n",
    "    print('comparison is true')\n",
    "else:\n",
    "    print('comparison is false')\n",
    "\n",
    "if x != y:\n",
    "    print('comparison is true')\n",
    "else:\n",
    "    print('comparison is false')\n"
   ]
  },
  {
   "cell_type": "markdown",
   "metadata": {},
   "source": [
    "\n",
    "# boolean.py\n"
   ]
  },
  {
   "cell_type": "code",
   "execution_count": null,
   "metadata": {},
   "outputs": [],
   "source": [
    "#!/usr/bin/env python3\n",
    "# Copyright 2009-2017 BHG http://bw.org/\n",
    "\n",
    "a = True\n",
    "b = False\n",
    "x = ( 'bear', 'bunny', 'tree', 'sky', 'rain' )\n",
    "y = 'bear'\n",
    "\n",
    "if a and b:\n",
    "    print('expression is true')\n",
    "else:\n",
    "    print('expression is false')\n",
    "\n",
    "if a or b:\n",
    "    print('expression is true')\n",
    "else:\n",
    "    print('expression is false')\n",
    "\n",
    "if not b:\n",
    "    print('expression is true')\n",
    "else:\n",
    "    print('expression is false')\n",
    "\n",
    "if y in x:\n",
    "    print('expression is true')\n",
    "else:\n",
    "    print('expression is false')\n",
    "    \n",
    "if 'leaf' in y:\n",
    "    print('expression is true')\n",
    "else:\n",
    "    print('expression is false')\n",
    "\n",
    "if y is x[0]:\n",
    "    print('expression is true')\n",
    "else:\n",
    "    print('expression is false')\n",
    "\n",
    "print (id(y))\n",
    "print (id(x[0]))\n",
    "\n",
    "\n",
    "if y is not x[1]:\n",
    "    print('expression is true')\n",
    "else:\n",
    "    print('expression is false')\n"
   ]
  },
  {
   "cell_type": "code",
   "execution_count": null,
   "metadata": {},
   "outputs": [],
   "source": []
  }
 ],
 "metadata": {
  "kernelspec": {
   "display_name": "Python 3",
   "language": "python",
   "name": "python3"
  },
  "language_info": {
   "codemirror_mode": {
    "name": "ipython",
    "version": 3
   },
   "file_extension": ".py",
   "mimetype": "text/x-python",
   "name": "python",
   "nbconvert_exporter": "python",
   "pygments_lexer": "ipython3",
   "version": "3.6.6"
  }
 },
 "nbformat": 4,
 "nbformat_minor": 2
}
