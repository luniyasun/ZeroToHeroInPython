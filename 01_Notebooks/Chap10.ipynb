{
 "cells": [
  {
   "cell_type": "markdown",
   "metadata": {},
   "source": [
    "\n",
    "# hello.py\n"
   ]
  },
  {
   "cell_type": "code",
   "execution_count": null,
   "metadata": {},
   "outputs": [],
   "source": [
    "#!/usr/bin/env python3\n",
    "# Copyright 2009-2017 BHG http://bw.org/\n",
    "\n",
    "import sys\n",
    "\n",
    "def main():\n",
    "    try:\n",
    "        x = int('foo') # 5/0\n",
    "    except ValueError:\n",
    "        print('I caught a value error')\n",
    "    except ZeroDivisionError:\n",
    "        print('don\\'t divide by zero')\n",
    "    except:\n",
    "        print(f'unknown error: {sys.exc_info()[1]}')\n",
    "    else:\n",
    "        print('good job')\n",
    "        print(x)\n",
    "\n",
    "if __name__ == '__main__': main()"
   ]
  },
  {
   "cell_type": "markdown",
   "metadata": {},
   "source": [
    "\n",
    "# exceptions.py\n"
   ]
  },
  {
   "cell_type": "code",
   "execution_count": null,
   "metadata": {},
   "outputs": [],
   "source": [
    "#!/usr/bin/env python3\n",
    "# Copyright 2009-2017 BHG http://bw.org/\n",
    "\n",
    "def inclusive_range(*args):\n",
    "    numargs = len(args)\n",
    "    start = 0\n",
    "    step = 1\n",
    "    \n",
    "    # initialize parameters\n",
    "    if numargs < 1:\n",
    "        raise TypeError(f'expected at least 1 argument, got {numargs}')\n",
    "    elif numargs == 1:\n",
    "        stop = args[0]\n",
    "    elif numargs == 2:\n",
    "        (start, stop) = args\n",
    "    elif numargs == 3:\n",
    "        (start, stop, step) = args\n",
    "    else: raise TypeError(f'expected at most 3 arguments, got {numargs}')\n",
    "\n",
    "    # generator\n",
    "    i = start\n",
    "    while i <= stop:\n",
    "        yield i\n",
    "        i += step\n",
    "\n",
    "def main():\n",
    "    try:\n",
    "        for i in inclusive_range(1,2,3,4):\n",
    "            print(i, end = ' ', flush = True)\n",
    "        print()\n",
    "    except TypeError as e:\n",
    "        print(f'range error: {e}')\n",
    "\n",
    "if __name__ == '__main__': main()\n"
   ]
  }
 ],
 "metadata": {
  "kernelspec": {
   "display_name": "Python 3",
   "language": "python",
   "name": "python3"
  },
  "language_info": {
   "codemirror_mode": {
    "name": "ipython",
    "version": 3
   },
   "file_extension": ".py",
   "mimetype": "text/x-python",
   "name": "python",
   "nbconvert_exporter": "python",
   "pygments_lexer": "ipython3",
   "version": "3.6.6"
  }
 },
 "nbformat": 4,
 "nbformat_minor": 2
}
