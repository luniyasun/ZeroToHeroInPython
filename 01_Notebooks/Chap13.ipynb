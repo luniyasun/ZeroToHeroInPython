{
 "cells": [
  {
   "cell_type": "markdown",
   "metadata": {},
   "source": [
    "\n",
    "# types.py\n"
   ]
  },
  {
   "cell_type": "code",
   "execution_count": null,
   "metadata": {},
   "outputs": [],
   "source": [
    "#!/usr/bin/env python3\n",
    "# Copyright 2009-2017 BHG http://bw.org/\n",
    "\n",
    "x = '47'\n",
    "y = int(x)  # float(x)\n",
    "\n",
    "print(f'x is {type(x)}')\n",
    "print(f'x is {x}')\n",
    "print(f'y is {type(y)}')\n",
    "print(f'y is {y}')\n",
    "\n",
    "# abs\n",
    "x = -47.3\n",
    "y = abs(x)\n",
    "\n",
    "print(f'x is {type(x)}')\n",
    "print(f'x is {x}')\n",
    "print(f'y is {type(y)}')\n",
    "print(f'y is {y}')\n",
    "\n",
    "# divmod\n",
    "x = 47\n",
    "y = divmod(x, 3) # quotient and remainder\n",
    "\n",
    "print(f'x is {type(x)}')\n",
    "print(f'x is {x}')\n",
    "print(f'y is {type(y)}')\n",
    "print(f'y is {y}')\n",
    "\n",
    "# complex\n",
    "x = 47\n",
    "y = complex(x, 73) #y = 47 + 73j\n",
    "\n",
    "print(f'x is {type(x)}')\n",
    "print(f'x is {x}')\n",
    "print(f'y is {type(y)}')\n",
    "print(f'y is {y}')\n"
   ]
  },
  {
   "cell_type": "markdown",
   "metadata": {},
   "source": [
    "\n",
    "# http://docs.python.org/3/library/functions.html\n"
   ]
  },
  {
   "cell_type": "markdown",
   "metadata": {},
   "source": [
    "\n",
    "# hello.py (string functions)\n"
   ]
  },
  {
   "cell_type": "code",
   "execution_count": null,
   "metadata": {},
   "outputs": [],
   "source": [
    "#!/usr/bin/env python3\n",
    "# Copyright 2009-2017 BHG http://bw.org/\n",
    "\n",
    "s = 'Hello, World.'\n",
    "print(repr(s))    # representation\n"
   ]
  },
  {
   "cell_type": "code",
   "execution_count": null,
   "metadata": {},
   "outputs": [],
   "source": [
    "class bunny:\n",
    "    def __init__(self, n):\n",
    "        self._n = n\n",
    "    \n",
    "    def __repr__(self):\n",
    "        return f'repr: the number of bunnies is {self._n} 👋'\n",
    "    \n",
    "    def __str__(self):\n",
    "        return f'str: the number of bunnies is {self._n}'\n",
    "    \n",
    "x = bunny(47)\n",
    "print(x)\n",
    "print(repr(x))\n",
    "\n",
    "print(ascii(x))    # escape special characters\n",
    "\n",
    "print(chr(128406))  # live long and prosper\n",
    "\n",
    "print(ord('👋'))   # waving hand\n",
    "\n"
   ]
  },
  {
   "cell_type": "markdown",
   "metadata": {},
   "source": [
    "\n",
    "# hello.py (container functions)\n"
   ]
  },
  {
   "cell_type": "code",
   "execution_count": null,
   "metadata": {
    "scrolled": true
   },
   "outputs": [],
   "source": [
    "#!/usr/bin/env python3\n",
    "# Copyright 2009-2017 BHG http://bw.org/\n",
    "\n",
    "x = (1, 2, 3, 4, 5)\n",
    "print(x)\n",
    "\n",
    "y = len(x)\n",
    "print(y)\n",
    "\n",
    "y = list(reversed(x))\n",
    "print(y)\n",
    "\n",
    "y = reversed(x)\n",
    "for i in y: print(i)\n",
    "\n",
    "y = sum(x)\n",
    "print(y)\n",
    "\n",
    "y = sum(x, 10)\n",
    "print(y)\n",
    "\n",
    "y = max(x)\n",
    "print(y)\n",
    "\n",
    "y = min(x)\n",
    "print(y)\n",
    "\n",
    "y = any(x)\n",
    "print(y)\n",
    "\n",
    "y = all(x)\n",
    "print(y)\n",
    "\n",
    "y = (6, 7, 8, 9, 10)\n",
    "\n",
    "z = zip(x, y)\n",
    "for a, b in z: print(f'{a} - {b}')\n"
   ]
  },
  {
   "cell_type": "code",
   "execution_count": null,
   "metadata": {
    "scrolled": true
   },
   "outputs": [],
   "source": [
    "# enumeration\n",
    "x = ('cat', 'dog', 'rabbit', 'velociraptor')\n",
    "for i, v in enumerate(x): print(f'{i}: {v}')\n"
   ]
  },
  {
   "cell_type": "markdown",
   "metadata": {},
   "source": [
    "\n",
    "# http://docs.python.org/3/library/functions.html"
   ]
  },
  {
   "cell_type": "markdown",
   "metadata": {},
   "source": [
    "\n",
    "# hello.py (Object and Class functions)\n"
   ]
  },
  {
   "cell_type": "code",
   "execution_count": null,
   "metadata": {},
   "outputs": [],
   "source": [
    "#!/usr/bin/env python3\n",
    "# Copyright 2009-2017 BHG http://bw.org/\n",
    "\n",
    "x = 42\n",
    "print(x)\n",
    "\n",
    "y = isinstance(x, int)\n",
    "print(y)\n",
    "\n",
    "y = id(x)\n",
    "print(y)"
   ]
  }
 ],
 "metadata": {
  "kernelspec": {
   "display_name": "Python 3",
   "language": "python",
   "name": "python3"
  },
  "language_info": {
   "codemirror_mode": {
    "name": "ipython",
    "version": 3
   },
   "file_extension": ".py",
   "mimetype": "text/x-python",
   "name": "python",
   "nbconvert_exporter": "python",
   "pygments_lexer": "ipython3",
   "version": "3.6.6"
  }
 },
 "nbformat": 4,
 "nbformat_minor": 2
}
