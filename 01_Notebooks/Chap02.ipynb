{
 "cells": [
  {
   "cell_type": "markdown",
   "metadata": {},
   "source": [
    "\n",
    "# hello.py\n"
   ]
  },
  {
   "cell_type": "code",
   "execution_count": null,
   "metadata": {},
   "outputs": [],
   "source": [
    "#!/usr/bin/env python3\n",
    "# Copyright 2009-2017 BHG http://bw.org/\n",
    "\n",
    "print('Hello, World.')\n",
    "print('something entirely different')\n"
   ]
  },
  {
   "cell_type": "markdown",
   "metadata": {},
   "source": [
    "\n",
    "# hello-version.py\n"
   ]
  },
  {
   "cell_type": "code",
   "execution_count": null,
   "metadata": {},
   "outputs": [],
   "source": [
    "#!/usr/bin/env python3\n",
    "# Copyright 2009-2017 BHG http://bw.org/\n",
    "\n",
    "import platform\n",
    "\n",
    "print('This is python version {}'.format(platform.python_version()))\n"
   ]
  },
  {
   "cell_type": "markdown",
   "metadata": {},
   "source": [
    "\n",
    "# hello-main.py\n"
   ]
  },
  {
   "cell_type": "code",
   "execution_count": null,
   "metadata": {},
   "outputs": [],
   "source": [
    "#!/usr/bin/env python3\n",
    "# Copyright 2009-2017 BHG http://bw.org/\n",
    "\n",
    "import platform\n",
    "\n",
    "def main():\n",
    "    message()\n",
    "\n",
    "def message():\n",
    "    print('This is python version {}'.format(platform.python_version()))\n",
    "\n",
    "if __name__ == '__main__': main()\n",
    "    "
   ]
  },
  {
   "cell_type": "markdown",
   "metadata": {},
   "source": [
    "\n",
    "# statements.py\n"
   ]
  },
  {
   "cell_type": "code",
   "execution_count": null,
   "metadata": {},
   "outputs": [],
   "source": [
    "#!/usr/bin/env python3\n",
    "# Copyright 2009-2017 BHG http://bw.org/\n",
    "\n",
    "import platform\n",
    "\n",
    "version = platform.python_version()\n",
    "\n",
    "print('This is python version {}'.format(version))\n",
    "print('hello')\n"
   ]
  },
  {
   "cell_type": "markdown",
   "metadata": {},
   "source": [
    "\n",
    "# hello-main.py\n"
   ]
  },
  {
   "cell_type": "code",
   "execution_count": null,
   "metadata": {},
   "outputs": [],
   "source": [
    "#!/usr/bin/env python3\n",
    "# Copyright 2009-2017 BHG http://bw.org/\n",
    "\n",
    "import platform\n",
    "\n",
    "def main():\n",
    "    message()\n",
    "\n",
    "def message():\n",
    "    print('This is python version {}'.format(platform.python_version()))\n",
    "    print('line 2')\n",
    "    if True:               # this is a comment\n",
    "        print('line 3')    # this is another comment\n",
    "    else:\n",
    "        print('not true')\n",
    "\n",
    "if __name__ == '__main__': main()\n",
    "    "
   ]
  },
  {
   "cell_type": "markdown",
   "metadata": {},
   "source": [
    "\n",
    "# hello.py\n"
   ]
  },
  {
   "cell_type": "code",
   "execution_count": null,
   "metadata": {},
   "outputs": [],
   "source": [
    "#!/usr/bin/env python3\n",
    "# Copyright 2009-2017 BHG http://bw.org/\n",
    "\n",
    "x = 42\n",
    "s = 'Hello, World. {}'.format(x)\n",
    "\n",
    "print(s)\n",
    "\n",
    "print('Hello, World. %d' %x)\n",
    "\n",
    "print(f'Hello, World. {x}')"
   ]
  },
  {
   "cell_type": "markdown",
   "metadata": {},
   "source": [
    "\n",
    "# blocks.py\n"
   ]
  },
  {
   "cell_type": "code",
   "execution_count": null,
   "metadata": {},
   "outputs": [],
   "source": [
    "#!/usr/bin/env python3\n",
    "# Copyright 2009-2017 BHG http://bw.org/\n",
    "\n",
    "x = 42\n",
    "y = 73\n",
    "\n",
    "if x < y:\n",
    "    z = 112\n",
    "    print('x < y: x is {} and y is {}'.format(x, y))\n",
    "    print('line 2')\n",
    "    print('line 3')\n",
    " print('line 4')\n",
    "\n",
    "print('something else')\n",
    "print('z is {}'.format(z))"
   ]
  },
  {
   "cell_type": "markdown",
   "metadata": {},
   "source": [
    "\n",
    "# blocks.py (Conditional)\n"
   ]
  },
  {
   "cell_type": "code",
   "execution_count": null,
   "metadata": {},
   "outputs": [],
   "source": [
    "#!/usr/bin/env python3\n",
    "# Copyright 2009-2017 BHG http://bw.org/\n",
    "\n",
    "x = 42\n",
    "y = 73\n",
    "\n",
    "if x > y:\n",
    "    print('x > y: x is {} and y is {}'.format(x, y))\n",
    "elif x < y:\n",
    "    print('x < y: x is {} and y is {}'.format(x, y))\n",
    "elif x == y:\n",
    "    print('x == y: x is {} and y is {}'.format(x, y))    \n",
    "else:\n",
    "    print('do something else') \n",
    "    "
   ]
  },
  {
   "cell_type": "code",
   "execution_count": null,
   "metadata": {},
   "outputs": [],
   "source": [
    "#!/usr/bin/env python3\n",
    "# Copyright 2009-2017 BHG http://bw.org/\n",
    "\n",
    "x = 42\n",
    "y = 42\n",
    "\n",
    "if x == 5:\n",
    "    print('do five stuff')\n",
    "elif x == 6:\n",
    "    print('do six stuff')\n",
    "elif x == 7:\n",
    "    print('do seven stuff')\n",
    "elif x == 8:\n",
    "    print('do six stuff')\n",
    "elif x == 42:\n",
    "    print('do fourty-two stuff')\n",
    "else:\n",
    "    print('do that other else') \n",
    "    "
   ]
  },
  {
   "cell_type": "markdown",
   "metadata": {},
   "source": [
    "\n",
    "# while.py\n"
   ]
  },
  {
   "cell_type": "code",
   "execution_count": null,
   "metadata": {},
   "outputs": [],
   "source": [
    "#!/usr/bin/env python3\n",
    "# Copyright 2009-2017 BHG http://bw.org/\n",
    "\n",
    "words = ['one', 'two', 'three', 'four', 'five']\n",
    "\n",
    "n = 0\n",
    "while(n < 5):\n",
    "    print(words[n])\n",
    "    n += 1\n"
   ]
  },
  {
   "cell_type": "markdown",
   "metadata": {},
   "source": [
    "\n",
    "# fibonacci.py\n"
   ]
  },
  {
   "cell_type": "code",
   "execution_count": null,
   "metadata": {},
   "outputs": [],
   "source": [
    "#!/usr/bin/env python3\n",
    "# Copyright 2009-2017 BHG http://bw.org/\n",
    "\n",
    "# simple fibonacci series\n",
    "# the sum of two elements defines the next set\n",
    "\n",
    "a, b = 0, 1\n",
    "while b < 1000:\n",
    "    print(b, end = ' ', flush = True)\n",
    "    a, b = b, a + b\n",
    "\n",
    "print() # line ending\n"
   ]
  },
  {
   "cell_type": "markdown",
   "metadata": {},
   "source": [
    "\n",
    "# for.py\n"
   ]
  },
  {
   "cell_type": "code",
   "execution_count": null,
   "metadata": {},
   "outputs": [],
   "source": [
    "#!/usr/bin/env python3\n",
    "# Copyright 2009-2017 BHG http://bw.org/\n",
    "\n",
    "words = ['one', 'two', 'three', 'four', 'five']\n",
    "\n",
    "for i in words:\n",
    "    print(i)\n"
   ]
  },
  {
   "cell_type": "markdown",
   "metadata": {},
   "source": [
    "\n",
    "# function.py\n"
   ]
  },
  {
   "cell_type": "code",
   "execution_count": null,
   "metadata": {},
   "outputs": [],
   "source": [
    "#!/usr/bin/env python3\n",
    "# Copyright 2009-2017 BHG http://bw.org/\n",
    "\n",
    "def function(n=1):\n",
    "    print(n)\n",
    "    return n * 2\n",
    "\n",
    "function(47)\n",
    "\n",
    "function()\n",
    "\n",
    "x = function(42)\n",
    "print(x)"
   ]
  },
  {
   "cell_type": "markdown",
   "metadata": {},
   "source": [
    "\n",
    "# primes.py\n"
   ]
  },
  {
   "cell_type": "code",
   "execution_count": null,
   "metadata": {},
   "outputs": [],
   "source": [
    "#!/usr/bin/env python3\n",
    "# Copyright 2009-2017 BHG http://bw.org/\n",
    "\n",
    "def isprime(n):\n",
    "    if n <= 1:\n",
    "        return False\n",
    "    for x in range(2, n):\n",
    "        if n % x == 0:\n",
    "            return False\n",
    "    else:\n",
    "        return True\n",
    "\n",
    "n = 5\n",
    "if isprime(n):\n",
    "    print(f'{n} is prime')\n",
    "else:\n",
    "    print(f'{n} not prime')\n"
   ]
  },
  {
   "cell_type": "code",
   "execution_count": null,
   "metadata": {},
   "outputs": [],
   "source": [
    "#!/usr/bin/env python3\n",
    "# Copyright 2009-2017 BHG http://bw.org/\n",
    "\n",
    "def isprime(n):\n",
    "    if n <= 1:\n",
    "        return False\n",
    "    for x in range(2, n):\n",
    "        if n % x == 0:\n",
    "            return False\n",
    "    else:\n",
    "        return True\n",
    "\n",
    "\n",
    "def list_primes():\n",
    "    for n in range(100):\n",
    "        if isprime(n):\n",
    "            print(n, end=' ', flush=True)\n",
    "    print()\n",
    "   \n",
    "   \n",
    "list_primes()\n"
   ]
  },
  {
   "cell_type": "markdown",
   "metadata": {},
   "source": [
    "\n",
    "# class.py"
   ]
  },
  {
   "cell_type": "code",
   "execution_count": null,
   "metadata": {},
   "outputs": [],
   "source": [
    "#!/usr/bin/env python3\n",
    "# Copyright 2009-2017 BHG http://bw.org/\n",
    "\n",
    "class Duck:\n",
    "    sound = 'Quaaack!'\n",
    "    walking = 'Walks like a duck.'\n",
    "    \n",
    "    def quack(self):\n",
    "        print(self.sound)\n",
    "\n",
    "    def walk(self):\n",
    "        print(self.walking)\n",
    "\n",
    "def main():\n",
    "    donald = Duck()\n",
    "    donald.quack()\n",
    "    donald.walk()\n",
    "\n",
    "if __name__ == '__main__': main()\n"
   ]
  }
 ],
 "metadata": {
  "kernelspec": {
   "display_name": "Python 3",
   "language": "python",
   "name": "python3"
  },
  "language_info": {
   "codemirror_mode": {
    "name": "ipython",
    "version": 3
   },
   "file_extension": ".py",
   "mimetype": "text/x-python",
   "name": "python",
   "nbconvert_exporter": "python",
   "pygments_lexer": "ipython3",
   "version": "3.6.6"
  }
 },
 "nbformat": 4,
 "nbformat_minor": 2
}
