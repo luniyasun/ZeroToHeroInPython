{
 "cells": [
  {
   "cell_type": "markdown",
   "metadata": {},
   "source": [
    "\n",
    "# types.py\n"
   ]
  },
  {
   "cell_type": "code",
   "execution_count": null,
   "metadata": {},
   "outputs": [],
   "source": [
    "#!/usr/bin/env python3\n",
    "# Copyright 2009-2017 BHG http://bw.org/\n",
    "\n",
    "x = 7\n",
    "print('x is {}'.format(x))\n",
    "print(type(x))\n",
    "\n",
    "x = 7.0\n",
    "print('x is {}'.format(x))\n",
    "print(type(x))\n",
    "\n",
    "x = '7.0'\n",
    "print('x is {}'.format(x))\n",
    "print(type(x))\n",
    "\n",
    "x = True\n",
    "print('x is {}'.format(x))\n",
    "print(type(x))\n",
    "\n",
    "x = None\n",
    "print('x is {}'.format(x))\n",
    "print(type(x))\n"
   ]
  },
  {
   "cell_type": "code",
   "execution_count": null,
   "metadata": {},
   "outputs": [],
   "source": [
    "x = 'seven'\n",
    "print('x is {}'.format(x))\n",
    "print(type(x))\n",
    "\n",
    "x = \"seven\"\n",
    "print('x is {}'.format(x))\n",
    "print(type(x))\n",
    "\n",
    "\n",
    "x = '''\n",
    "\n",
    "seven\n",
    "\n",
    "'''\n",
    "print('x is {}'.format(x))\n",
    "print(type(x))\n",
    "\n",
    "\n",
    "x = \"\"\"\n",
    "\n",
    "seven\n",
    "\n",
    "\"\"\"\n",
    "print('x is {}'.format(x))\n",
    "print(type(x))"
   ]
  },
  {
   "cell_type": "code",
   "execution_count": null,
   "metadata": {},
   "outputs": [],
   "source": [
    "x = 'seven'.capitalize()\n",
    "print('x is {}'.format(x))\n",
    "print(type(x))\n",
    "\n",
    "x = 'seven'.upper()\n",
    "print('x is {}'.format(x))\n",
    "print(type(x))\n",
    "\n",
    "x = 'seven'.lower()\n",
    "print('x is {}'.format(x))\n",
    "print(type(x))\n"
   ]
  },
  {
   "cell_type": "code",
   "execution_count": null,
   "metadata": {},
   "outputs": [],
   "source": [
    "x = 'seven {1} {0}'.format(8, 9)\n",
    "print('x is {}'.format(x))\n",
    "print(type(x))\n"
   ]
  },
  {
   "cell_type": "code",
   "execution_count": null,
   "metadata": {},
   "outputs": [],
   "source": [
    "x = 'seven \"{1:<09}\" \"{0:>09}\"'.format(8, 123459)\n",
    "print('x is {}'.format(x))\n",
    "print(type(x))\n"
   ]
  },
  {
   "cell_type": "code",
   "execution_count": null,
   "metadata": {},
   "outputs": [],
   "source": [
    "a=8\n",
    "b=9\n",
    "x = f'seven {a} {b}'\n",
    "print('x is {}'.format(x))\n",
    "print(type(x))"
   ]
  },
  {
   "cell_type": "code",
   "execution_count": null,
   "metadata": {},
   "outputs": [],
   "source": [
    "a=8\n",
    "b=9\n",
    "x = f'seven {a:<09} {b:>09}'\n",
    "print('x is {}'.format(x))\n",
    "print(type(x))"
   ]
  },
  {
   "cell_type": "markdown",
   "metadata": {},
   "source": [
    "\n",
    "# types.py\n"
   ]
  },
  {
   "cell_type": "code",
   "execution_count": null,
   "metadata": {},
   "outputs": [],
   "source": [
    "#!/usr/bin/env python3\n",
    "# Copyright 2009-2017 BHG http://bw.org/\n",
    "\n",
    "x = 7 * 3\n",
    "print('x is {}'.format(x))\n",
    "print(type(x))\n"
   ]
  },
  {
   "cell_type": "code",
   "execution_count": null,
   "metadata": {},
   "outputs": [],
   "source": [
    "x = 7.0 * 3\n",
    "print('x is {}'.format(x))\n",
    "print(type(x))\n"
   ]
  },
  {
   "cell_type": "code",
   "execution_count": null,
   "metadata": {},
   "outputs": [],
   "source": [
    "x = 7 * 3.14159\n",
    "print('x is {}'.format(x))\n",
    "print(type(x))\n"
   ]
  },
  {
   "cell_type": "code",
   "execution_count": null,
   "metadata": {},
   "outputs": [],
   "source": [
    "x = 7 / 3\n",
    "print('x is {}'.format(x))\n",
    "print(type(x))\n"
   ]
  },
  {
   "cell_type": "code",
   "execution_count": null,
   "metadata": {},
   "outputs": [],
   "source": [
    "x = 7 // 3\n",
    "print('x is {}'.format(x))\n",
    "print(type(x))\n"
   ]
  },
  {
   "cell_type": "code",
   "execution_count": null,
   "metadata": {},
   "outputs": [],
   "source": [
    "x = 7 % 3\n",
    "print('x is {}'.format(x))\n",
    "print(type(x))\n"
   ]
  },
  {
   "cell_type": "code",
   "execution_count": null,
   "metadata": {},
   "outputs": [],
   "source": [
    "x = .1 + .1 + .1 - .3\n",
    "print('x is {}'.format(x))\n",
    "print(type(x))\n"
   ]
  },
  {
   "cell_type": "code",
   "execution_count": null,
   "metadata": {},
   "outputs": [],
   "source": [
    "from decimal import *\n",
    "\n",
    "a = Decimal('.10')\n",
    "b = Decimal('.30')\n",
    "\n",
    "x = a + a + a - b\n",
    "print('x is {}'.format(x))\n",
    "print(type(x))\n"
   ]
  },
  {
   "cell_type": "markdown",
   "metadata": {},
   "source": [
    "\n",
    "# types.py\n"
   ]
  },
  {
   "cell_type": "code",
   "execution_count": null,
   "metadata": {},
   "outputs": [],
   "source": [
    "#!/usr/bin/env python3\n",
    "# Copyright 2009-2017 BHG http://bw.org/\n",
    "\n",
    "x = True \n",
    "print('x is {}'.format(x))\n",
    "print(type(x))\n"
   ]
  },
  {
   "cell_type": "code",
   "execution_count": null,
   "metadata": {},
   "outputs": [],
   "source": [
    "x = 7 > 5 \n",
    "print('x is {}'.format(x))\n",
    "print(type(x))\n"
   ]
  },
  {
   "cell_type": "code",
   "execution_count": null,
   "metadata": {},
   "outputs": [],
   "source": [
    "x = None\n",
    "print('x is {}'.format(x))\n",
    "print(type(x))\n",
    "\n",
    "if x: \n",
    "    print(\"True\")\n",
    "else:\n",
    "    print(\"False\")\n",
    "    "
   ]
  },
  {
   "cell_type": "markdown",
   "metadata": {},
   "source": [
    "\n",
    "# sequence.py\n"
   ]
  },
  {
   "cell_type": "code",
   "execution_count": null,
   "metadata": {},
   "outputs": [],
   "source": [
    "#!/usr/bin/env python3\n",
    "# Copyright 2009-2017 BHG http://bw.org/\n",
    "\n",
    "x = [ 1, 2, 3, 4, 5 ]\n",
    "for i in x:\n",
    "    print('i is {}'.format(i))\n"
   ]
  },
  {
   "cell_type": "code",
   "execution_count": null,
   "metadata": {},
   "outputs": [],
   "source": [
    "# list update element\n",
    "\n",
    "x = [ 1, 2, 3, 4, 5 ]\n",
    "x[2] = 42\n",
    "for i in x:\n",
    "    print('i is {}'.format(i))\n"
   ]
  },
  {
   "cell_type": "code",
   "execution_count": null,
   "metadata": {},
   "outputs": [],
   "source": [
    "# tuples are immutable\n",
    "x = ( 1, 2, 3, 4, 5 )\n",
    "x[4] = 42\n",
    "for i in x:\n",
    "    print('i is {}'.format(i))\n"
   ]
  },
  {
   "cell_type": "code",
   "execution_count": null,
   "metadata": {},
   "outputs": [],
   "source": [
    "x = range(5)\n",
    "for i in x:\n",
    "    print('i is {}'.format(i))\n",
    "    "
   ]
  },
  {
   "cell_type": "code",
   "execution_count": null,
   "metadata": {},
   "outputs": [],
   "source": [
    "# range(start, end, step)\n",
    "\n",
    "x = range(5, 50, 5)\n",
    "for i in x:\n",
    "    print('i is {}'.format(i))\n"
   ]
  },
  {
   "cell_type": "code",
   "execution_count": null,
   "metadata": {},
   "outputs": [],
   "source": [
    "# range is immutable\n",
    "\n",
    "x = range(5)\n",
    "x[2] = 42\n",
    "for i in x:\n",
    "    print('i is {}'.format(i))\n"
   ]
  },
  {
   "cell_type": "code",
   "execution_count": null,
   "metadata": {},
   "outputs": [],
   "source": [
    "# convert range to list to update element\n",
    "\n",
    "x = list(range(5))\n",
    "x[2] = 42\n",
    "for i in x:\n",
    "    print('i is {}'.format(i))\n"
   ]
  },
  {
   "cell_type": "code",
   "execution_count": null,
   "metadata": {},
   "outputs": [],
   "source": [
    "# dictionary\n",
    "\n",
    "x = {'one': 1, 'two' : 2, 'three': 3, 'four': 4, 'five': 5 }\n",
    "x['three'] = 42\n",
    "\n",
    "for k, v in x.items():\n",
    "    print('k: {}, v: {} '.format(k, v))\n",
    "\n"
   ]
  },
  {
   "cell_type": "markdown",
   "metadata": {},
   "source": [
    "\n",
    "# types.py\n"
   ]
  },
  {
   "cell_type": "code",
   "execution_count": null,
   "metadata": {},
   "outputs": [],
   "source": [
    "#!/usr/bin/env python3\n",
    "# Copyright 2009-2017 BHG http://bw.org/\n",
    "\n",
    "x = (1, 'two', 3.0, [4, 'four'], 5) \n",
    "print('x is {}'.format(x))\n",
    "print(type(x[1]))\n"
   ]
  },
  {
   "cell_type": "code",
   "execution_count": null,
   "metadata": {},
   "outputs": [],
   "source": [
    "#!/usr/bin/env python3\n",
    "# Copyright 2009-2017 BHG http://bw.org/\n",
    "\n",
    "x = (1, 'two', 3.0, [4, 'four'], 5) \n",
    "y = (1, 'two', 3.0, [4, 'four'], 5) \n",
    "print('x is {}'.format(x))\n",
    "print(type(x))\n",
    "print(type(y))\n",
    "print(id(x))\n",
    "print(id(y))\n",
    "print(id(x[0]))\n",
    "print(id(y[0]))"
   ]
  },
  {
   "cell_type": "code",
   "execution_count": null,
   "metadata": {},
   "outputs": [],
   "source": [
    "x = (1, 'two', 3.0, [4, 'four'], 5) \n",
    "y = (1, 'two', 3.0, [4, 'four'], 5) \n",
    "\n",
    "if x[0] is y[0]:\n",
    "    print('yep')\n",
    "else:\n",
    "    print('nope')\n",
    "    \n",
    "    \n",
    "if x is y:\n",
    "    print('yep')\n",
    "else:\n",
    "    print('nope')"
   ]
  },
  {
   "cell_type": "code",
   "execution_count": null,
   "metadata": {
    "scrolled": true
   },
   "outputs": [],
   "source": [
    "x = (1, 'two', 3.0, [4, 'four'], 5) \n",
    "y = [1, 'two', 3.0, [4, 'four'], 5]\n",
    "print(type(x))\n",
    "print(type(y))\n",
    "\n",
    "if isinstance(x, tuple):\n",
    "    print('tuple')\n",
    "elif isinstance(x, list):\n",
    "    print('list')\n",
    "else:\n",
    "    print('nope')\n",
    "    \n",
    "if isinstance(y, tuple):\n",
    "    print('tuple')\n",
    "elif isinstance(y, list):\n",
    "    print('list')\n",
    "else:\n",
    "    print('nope')"
   ]
  }
 ],
 "metadata": {
  "kernelspec": {
   "display_name": "Python 3",
   "language": "python",
   "name": "python3"
  },
  "language_info": {
   "codemirror_mode": {
    "name": "ipython",
    "version": 3
   },
   "file_extension": ".py",
   "mimetype": "text/x-python",
   "name": "python",
   "nbconvert_exporter": "python",
   "pygments_lexer": "ipython3",
   "version": "3.6.6"
  }
 },
 "nbformat": 4,
 "nbformat_minor": 2
}
