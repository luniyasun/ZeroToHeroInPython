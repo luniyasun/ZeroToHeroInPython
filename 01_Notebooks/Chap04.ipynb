{
 "cells": [
  {
   "cell_type": "markdown",
   "metadata": {},
   "source": [
    "\n",
    "# conditional.py\n"
   ]
  },
  {
   "cell_type": "code",
   "execution_count": null,
   "metadata": {},
   "outputs": [],
   "source": [
    "#!/usr/bin/env python3\n",
    "# Copyright 2009-2017 BHG http://bw.org/\n",
    "\n",
    "x = 5\n",
    "\n",
    "if x == 0:\n",
    "    print('zero true')\n",
    "elif x == 1:\n",
    "    print('elif 1 true')\n",
    "elif x == 2:\n",
    "    print('elif 2 true')\n",
    "elif x == 3:\n",
    "    print('elif 3 true')\n",
    "elif x == 4:\n",
    "    print('elif 4 true')    \n",
    "elif x == 5:\n",
    "    print('elif 5 true')    \n",
    "else:\n",
    "    print('none true')\n"
   ]
  },
  {
   "cell_type": "markdown",
   "metadata": {},
   "source": [
    "# ternary.py"
   ]
  },
  {
   "cell_type": "code",
   "execution_count": null,
   "metadata": {},
   "outputs": [],
   "source": [
    "#!/usr/bin/env python3\n",
    "# Copyright 2009-2017 BHG http://bw.org/\n",
    "\n",
    "hungry = True\n",
    "x = 'Feed the bear now!' if hungry else 'Do not feed the bear.'\n",
    "print(x)\n"
   ]
  },
  {
   "cell_type": "code",
   "execution_count": null,
   "metadata": {},
   "outputs": [],
   "source": [
    "hungry = 0\n",
    "x = 'Feed the bear now!' if hungry else 'Do not feed the bear.'\n",
    "print(x)"
   ]
  }
 ],
 "metadata": {
  "kernelspec": {
   "display_name": "Python 3",
   "language": "python",
   "name": "python3"
  },
  "language_info": {
   "codemirror_mode": {
    "name": "ipython",
    "version": 3
   },
   "file_extension": ".py",
   "mimetype": "text/x-python",
   "name": "python",
   "nbconvert_exporter": "python",
   "pygments_lexer": "ipython3",
   "version": "3.6.6"
  }
 },
 "nbformat": 4,
 "nbformat_minor": 2
}
