{
 "cells": [
  {
   "cell_type": "markdown",
   "id": "plastic-death",
   "metadata": {},
   "source": [
    "# Assignment vs copy vs deepcopy"
   ]
  },
  {
   "cell_type": "code",
   "execution_count": 3,
   "id": "final-suspect",
   "metadata": {
    "scrolled": true
   },
   "outputs": [],
   "source": [
    "import copy"
   ]
  },
  {
   "cell_type": "code",
   "execution_count": 1,
   "id": "every-metabolism",
   "metadata": {},
   "outputs": [
    {
     "name": "stdout",
     "output_type": "stream",
     "text": [
      "------------assignment ---------------\n",
      "[1, 2, 3, 4]\n",
      "140517541626816\n",
      "[1, 2, 3, 4]\n",
      "140517541626816\n",
      "[0, 2, 3, 4]\n",
      "[0, 2, 3, 4]\n",
      "[1, 2, 3, 4]\n",
      "[1, 2, 3, 4]\n"
     ]
    }
   ],
   "source": [
    "print('------------assignment ---------------')\n",
    "x = [1, 2, 3, 4]\n",
    "print(x)\n",
    "print(id(x))\n",
    "y = x # assignment is by refence and not a copy\n",
    "print(y)\n",
    "print(id(y))\n",
    "\n",
    "y[0] = 0\n",
    "print(y)\n",
    "print(x)\n",
    "\n",
    "x[0] = 1\n",
    "print(y)\n",
    "print(x)\n"
   ]
  },
  {
   "cell_type": "code",
   "execution_count": 2,
   "id": "recent-intranet",
   "metadata": {},
   "outputs": [
    {
     "name": "stdout",
     "output_type": "stream",
     "text": [
      "------------list copy  ---------------\n",
      "[1, 2, 3, 4]\n",
      "140517507106688\n",
      "[1, 2, 3, 4]\n",
      "140517540846400\n",
      "[0, 2, 3, 4]\n",
      "[1, 2, 3, 4]\n",
      "[0, 2, 3, 4]\n",
      "[1, 2, 3, 4]\n"
     ]
    }
   ],
   "source": [
    "print('------------list copy  ---------------')\n",
    "x = [1, 2, 3, 4]\n",
    "print(x)\n",
    "print(id(x))\n",
    "y = x.copy() # assignment is by refence and not a copy\n",
    "print(y)\n",
    "print(id(y))\n",
    "\n",
    "y[0] = 0\n",
    "print(y)\n",
    "print(x)\n",
    "\n",
    "x[0] = 1\n",
    "print(y)\n",
    "print(x)"
   ]
  },
  {
   "cell_type": "code",
   "execution_count": 4,
   "id": "automated-hebrew",
   "metadata": {},
   "outputs": [
    {
     "name": "stdout",
     "output_type": "stream",
     "text": [
      "-----------copy module ----------------\n",
      "[5, 6, 7, 8]\n",
      "140517506838352\n",
      "[5, 6, 7, 8]\n",
      "140517506805344\n",
      "[0, 6, 7, 8]\n",
      "[5, 6, 7, 8]\n",
      "[0, 6, 7, 8]\n",
      "[5, 6, 7, 8]\n"
     ]
    }
   ],
   "source": [
    "print('-----------copy module ----------------')\n",
    "\n",
    "x2 = [5, 6, 7, 8]\n",
    "print(x2)\n",
    "print(id(x2))\n",
    "y2 = copy.copy(x2) # Copies to another list\n",
    "print(y2)\n",
    "print(id(y2))\n",
    "\n",
    "y2[0] = 0\n",
    "print(y2)\n",
    "print(x2)\n",
    "\n",
    "x2[0] = 5\n",
    "print(y2)\n",
    "print(x2)"
   ]
  },
  {
   "cell_type": "code",
   "execution_count": 5,
   "id": "tropical-booking",
   "metadata": {},
   "outputs": [
    {
     "name": "stdout",
     "output_type": "stream",
     "text": [
      "-----------deep copy ----------------\n",
      "[5, 6, 7, 8]\n",
      "140517541710656\n"
     ]
    }
   ],
   "source": [
    "print('-----------deep copy ----------------')\n",
    "# deep copy - copying process occurs recursively for child objects\n",
    "y2d = copy.deepcopy(x2)\n",
    "print(y2d)\n",
    "print(id(y2d))"
   ]
  },
  {
   "cell_type": "code",
   "execution_count": 6,
   "id": "surprised-aspect",
   "metadata": {},
   "outputs": [
    {
     "name": "stdout",
     "output_type": "stream",
     "text": [
      "-----------Slice ----------------\n",
      "[9, 10, 11, 12]\n",
      "140517506804944\n",
      "[9, 10, 11, 12]\n",
      "140517540880624\n",
      "[0, 10, 11, 12]\n",
      "[9, 10, 11, 12]\n",
      "[0, 10, 11, 12]\n",
      "[9, 10, 11, 12]\n"
     ]
    }
   ],
   "source": [
    "print('-----------Slice ----------------')\n",
    "x3 = [9, 10, 11, 12]\n",
    "print(x3)\n",
    "print(id(x3))\n",
    "y3 = x3[:] # slice does same thing as copy\n",
    "print(y3)\n",
    "print(id(y3))\n",
    "\n",
    "y3[0] = 0\n",
    "print(y3)\n",
    "print(x3)\n",
    "\n",
    "x3[0] = 9\n",
    "print(y3)\n",
    "print(x3)"
   ]
  },
  {
   "cell_type": "markdown",
   "id": "extreme-christian",
   "metadata": {},
   "source": [
    "# Pass by Value vs reference - Python is actually call by \"assignment\""
   ]
  },
  {
   "cell_type": "code",
   "execution_count": 7,
   "id": "talented-appeal",
   "metadata": {},
   "outputs": [
    {
     "name": "stdout",
     "output_type": "stream",
     "text": [
      "94342426800896\n",
      "94342426800896\n",
      "94342426800832\n",
      "Meow\n",
      "3\n",
      "in main: x is 5\n"
     ]
    }
   ],
   "source": [
    "# Call by value\n",
    "\n",
    "def main():\n",
    "    x = 5\n",
    "    print(id(x))\n",
    "    kitten(x)           # call by value\n",
    "    print(f'in main: x is {x}')\n",
    "\n",
    "def kitten(a):\n",
    "    print(id(a))\n",
    "    a = 3\n",
    "    print(id(a))        # integers are immutable\n",
    "    print('Meow')\n",
    "    print(a)\n",
    "\n",
    "if __name__ == '__main__': main()"
   ]
  },
  {
   "cell_type": "code",
   "execution_count": null,
   "id": "anticipated-adolescent",
   "metadata": {},
   "outputs": [],
   "source": [
    "# call by reference\n",
    "\n",
    "def main():\n",
    "    x = [5]\n",
    "    y = x\n",
    "    y[0] = 3\n",
    "    print(id(x))\n",
    "    print(id(y))\n",
    "    print(x)\n",
    "    print(y)\n",
    "    \n",
    "    kitten(x)           \n",
    "    print(f'in main: x is {x}')\n",
    "\n",
    "def kitten(a):\n",
    "    print(id(a))\n",
    "    a[0] = 3\n",
    "    print(id(a))        \n",
    "\n",
    "if __name__ == '__main__': main()"
   ]
  },
  {
   "cell_type": "markdown",
   "id": "charged-advance",
   "metadata": {},
   "source": [
    "# Variable arguments"
   ]
  },
  {
   "cell_type": "code",
   "execution_count": 11,
   "id": "bibliographic-kitchen",
   "metadata": {},
   "outputs": [
    {
     "name": "stdout",
     "output_type": "stream",
     "text": [
      "h e l l o\n",
      "<class 'tuple'>\n",
      "meow\n",
      "grrr\n",
      "purr\n",
      "hello\n",
      "world\n"
     ]
    }
   ],
   "source": [
    "def main():\n",
    "    x = ['meow', 'grrr', 'purr', 'hello', 'world']\n",
    "    print(*x[3])\n",
    "    #print(*x[0])\n",
    "    kitten(*x)\n",
    "\n",
    "def kitten(*args):\n",
    "    if len(args):\n",
    "        print(type(args))\n",
    "        for s in args:\n",
    "            print(s)\n",
    "    else: print('Meow.')\n",
    "\n",
    "if __name__ == '__main__': main()"
   ]
  },
  {
   "cell_type": "markdown",
   "id": "thick-package",
   "metadata": {},
   "source": [
    "reference: https://stackoverflow.com/questions/2612802/list-changes-unexpectedly-after-assignment-why-is-this-and-how-can-i-prevent-it"
   ]
  }
 ],
 "metadata": {
  "kernelspec": {
   "display_name": "Python 3",
   "language": "python",
   "name": "python3"
  },
  "language_info": {
   "codemirror_mode": {
    "name": "ipython",
    "version": 3
   },
   "file_extension": ".py",
   "mimetype": "text/x-python",
   "name": "python",
   "nbconvert_exporter": "python",
   "pygments_lexer": "ipython3",
   "version": "3.7.10"
  }
 },
 "nbformat": 4,
 "nbformat_minor": 5
}
