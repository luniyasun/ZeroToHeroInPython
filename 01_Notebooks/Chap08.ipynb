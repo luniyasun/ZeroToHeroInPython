{
 "cells": [
  {
   "cell_type": "markdown",
   "metadata": {},
   "source": [
    "\n",
    "# lists.py\n"
   ]
  },
  {
   "cell_type": "code",
   "execution_count": null,
   "metadata": {},
   "outputs": [],
   "source": [
    "#!/usr/bin/env python3\n",
    "# Copyright 2009-2017 BHG http://bw.org/\n",
    "\n",
    "def main():\n",
    "    game = [ 'Rock', 'Paper', 'Scissors', 'Lizard', 'Spock' ]\n",
    "    print(game[1:3])\n",
    "    print(game[1:5:2])\n",
    "    \n",
    "    i = game.index('Paper')\n",
    "    print(game[i])\n",
    "    \n",
    "    print_list(game)\n",
    "\n",
    "def print_list(o):\n",
    "    for i in o: print(i, end=' ', flush=True)\n",
    "    print()\n",
    "\n",
    "if __name__ == '__main__': main()\n"
   ]
  },
  {
   "cell_type": "code",
   "execution_count": null,
   "metadata": {},
   "outputs": [],
   "source": [
    "def main():\n",
    "    game = [ 'Rock', 'Paper', 'Scissors', 'Lizard', 'Spock' ]\n",
    "    \n",
    "    # Append / Insert\n",
    "    # game.append('Computer')    \n",
    "    game.insert(0,'Computer')\n",
    "    print_list(game)\n",
    "    \n",
    "    #Remove\n",
    "    game.remove('Paper')\n",
    "    print_list(game)\n",
    "    \n",
    "    # POP\n",
    "    x = game.pop()    \n",
    "    print(x)\n",
    "    print_list(game)\n",
    "    \n",
    "    # other options\n",
    "    # game.pop(3)\n",
    "    # del game[3]\n",
    "    # del game[1:5:2]\n",
    "    print(','.join(game))\n",
    "    print(len(game))\n",
    "        \n",
    "def print_list(o):\n",
    "    for i in o: print(i, end=' ', flush=True)\n",
    "    print()\n",
    "\n",
    "if __name__ == '__main__': main()\n"
   ]
  },
  {
   "cell_type": "markdown",
   "metadata": {},
   "source": [
    "\n",
    "# dict.py\n"
   ]
  },
  {
   "cell_type": "code",
   "execution_count": null,
   "metadata": {},
   "outputs": [],
   "source": [
    "#!/usr/bin/env python3\n",
    "# Copyright 2009-2017 BHG http://bw.org/\n",
    "\n",
    "def main():\n",
    "    \n",
    "    # animals = dict(kitten:'meow', puppy: 'ruff!', lion: 'grrr',\n",
    "    #    giraffe: 'I am a giraffe!', dragon: 'rawr')\n",
    "    \n",
    "    animals = { 'kitten': 'meow', 'puppy': 'ruff!', 'lion': 'grrr',\n",
    "        'giraffe': 'I am a giraffe!', 'dragon': 'rawr' }\n",
    "    \n",
    "    for k in animals.keys() : print(k)\n",
    "    for v in animals.values() : print(v)\n",
    "        \n",
    "    print_dict(animals)\n",
    "    \n",
    "    # print(animals['lion'])\n",
    "    # animals['lion'] = 'I am a lion'\n",
    "    # animals['monkey'] = 'haha'\n",
    "    # print('found' if lion' in animals else 'nope!')\n",
    "    # print(animals['godzilla'])\n",
    "    # print(animals.get('lion'))\n",
    "    \n",
    "\n",
    "def print_dict(o):\n",
    "    for k, v in o.items(): print(f'{k}: {v}')\n",
    "\n",
    "if __name__ == '__main__': main()\n"
   ]
  },
  {
   "cell_type": "markdown",
   "metadata": {},
   "source": [
    "\n",
    "# sets.py\n"
   ]
  },
  {
   "cell_type": "code",
   "execution_count": null,
   "metadata": {},
   "outputs": [],
   "source": [
    "#!/usr/bin/env python3\n",
    "# Copyright 2009-2017 BHG http://bw.org/\n",
    "\n",
    "def main():\n",
    "    a = set(\"We're gonna need a bigger boat.\")\n",
    "    b = set(\"I'm sorry, Dave. I'm afraid I can't do that.\")\n",
    "    print_set(a)\n",
    "    print_set(b)\n",
    "    \n",
    "    print_set(a - b)\n",
    "    print_set(a | b)\n",
    "    print_set(a ^ b)\n",
    "    print_set(a & b)\n",
    "    \n",
    "    print_set(sorted(a))\n",
    "    print_set(sorted(b))\n",
    "    \n",
    "    \n",
    "\n",
    "def print_set(o):\n",
    "    print('{', end = '')\n",
    "    for x in o: print(x, end = '')\n",
    "    print('}')\n",
    "\n",
    "if __name__ == '__main__': main()\n"
   ]
  },
  {
   "cell_type": "markdown",
   "metadata": {},
   "source": [
    "\n",
    "# comprehension.py\n"
   ]
  },
  {
   "cell_type": "code",
   "execution_count": 33,
   "metadata": {},
   "outputs": [
    {
     "name": "stdout",
     "output_type": "stream",
     "text": [
      "0 1 2 3 4 5 6 7 8 9 10 \n",
      "0 2 4 6 8 10 12 14 16 18 20 \n",
      "1 2 4 5 7 8 10 \n",
      "(0, 0) (1, 1) (2, 4) (3, 9) (4, 16) (5, 25) (6, 36) (7, 49) (8, 64) (9, 81) (10, 100) \n",
      "3.0 3.1 3.14 3.142 3.1416 3.14159 3.141593 3.1415927 3.14159265 3.141592654 3.1415926536 \n",
      "{0: 0, 1: 1, 2: 4, 3: 9, 4: 16, 5: 25, 6: 36, 7: 49, 8: 64, 9: 81, 10: 100}\n",
      "u e s r \n"
     ]
    }
   ],
   "source": [
    "#!/usr/bin/env python3\n",
    "# Copyright 2009-2017 BHG http://bw.org/\n",
    "\n",
    "def main():\n",
    "    seq = range(11)\n",
    "    print_list(seq)\n",
    "    \n",
    "    seq2 = [x * 2 for x in seq]    \n",
    "    print_list(seq2)\n",
    "    \n",
    "    # conditional\n",
    "    seq2 = [x for x in seq if x % 3 != 0]\n",
    "    print_list(seq2)\n",
    "    \n",
    "    # Tuple\n",
    "    seq2 = [(x, x**2) for x in seq]\n",
    "    print_list(seq2)\n",
    "    \n",
    "    # function\n",
    "    from math import pi\n",
    "    seq2 = [round(pi, i) for i in seq]\n",
    "    print_list(seq2)\n",
    "    \n",
    "    # dictionary\n",
    "    seq2 = {x: x**2 for x in seq}\n",
    "    print(seq2)\n",
    "    \n",
    "    # set\n",
    "    seq2 = {x for x in 'superduper' if x not in 'pd'}\n",
    "    print_list(seq2)\n",
    "    \n",
    "def print_list(o):\n",
    "    for x in o: print(x, end = ' ')\n",
    "    print()\n",
    "\n",
    "if __name__ == '__main__': main()\n"
   ]
  },
  {
   "cell_type": "markdown",
   "metadata": {},
   "source": [
    "\n",
    "# mixed.py\n"
   ]
  },
  {
   "cell_type": "code",
   "execution_count": null,
   "metadata": {},
   "outputs": [],
   "source": [
    "#!/usr/bin/env python3\n",
    "# Copyright 2009-2017 BHG http://bw.org/\n",
    "\n",
    "# globals\n",
    "dlevel = 0 # manage nesting level\n",
    "\n",
    "def main():\n",
    "    r = range(11)\n",
    "    l = [ 1, 'two', 3, {'4': 'four' }, 5 ]\n",
    "    t = ( 'one', 'two', None, 'four', 'five' )\n",
    "    s = set(\"It's a bird! It's a plane! It's Superman!\")\n",
    "    d = dict( one = r, two = l, three = s )\n",
    "    mixed = [ l, r, s, d, t ]\n",
    "    disp(mixed)\n",
    "\n",
    "def disp(o):\n",
    "    global dlevel\n",
    "\n",
    "    dlevel += 1\n",
    "    if   isinstance(o, list):  print_list(o)\n",
    "    elif isinstance(o, range): print_list(o)\n",
    "    elif isinstance(o, tuple): print_tuple(o)\n",
    "    elif isinstance(o, set):   print_set(o)\n",
    "    elif isinstance(o, dict):  print_dict(o)\n",
    "    elif o is None: print('Nada', end=' ', flush=True)\n",
    "    else: print(repr(o), end=' ', flush=True)\n",
    "    dlevel -= 1\n",
    "\n",
    "    if dlevel <= 1: print() # newline after outer\n",
    "\n",
    "def print_list(o):\n",
    "    print('[', end=' ')\n",
    "    for x in o: disp(x)\n",
    "    print(']', end=' ', flush=True)\n",
    "\n",
    "def print_tuple(o):\n",
    "    print('(', end=' ')\n",
    "    for x in o: disp(x)\n",
    "    print(')', end=' ', flush=True)\n",
    "\n",
    "def print_set(o):\n",
    "    print('{', end=' ')\n",
    "    for x in sorted(o): disp(x)\n",
    "    print('}', end=' ', flush=True)\n",
    "\n",
    "def print_dict(o):\n",
    "    print('{', end=' ')\n",
    "    for k, v in o.items():\n",
    "        print(k, end=': ' )\n",
    "        disp(v)\n",
    "    print('}', end=' ', flush=True)\n",
    "\n",
    "if __name__ == '__main__': main()\n"
   ]
  }
 ],
 "metadata": {
  "kernelspec": {
   "display_name": "Python 3",
   "language": "python",
   "name": "python3"
  },
  "language_info": {
   "codemirror_mode": {
    "name": "ipython",
    "version": 3
   },
   "file_extension": ".py",
   "mimetype": "text/x-python",
   "name": "python",
   "nbconvert_exporter": "python",
   "pygments_lexer": "ipython3",
   "version": "3.6.6"
  }
 },
 "nbformat": 4,
 "nbformat_minor": 2
}
