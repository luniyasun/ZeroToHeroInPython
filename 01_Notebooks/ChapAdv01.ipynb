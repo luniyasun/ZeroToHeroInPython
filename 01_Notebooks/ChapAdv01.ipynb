{
 "cells": [
  {
   "cell_type": "markdown",
   "metadata": {},
   "source": [
    "\n",
    "# Advanced Topics - Data structures and Collections\n"
   ]
  },
  {
   "cell_type": "markdown",
   "metadata": {},
   "source": [
    "\n",
    "# Lambda Functions\n"
   ]
  },
  {
   "cell_type": "code",
   "execution_count": 1,
   "metadata": {},
   "outputs": [
    {
     "name": "stdout",
     "output_type": "stream",
     "text": [
      "[0.0, 18.333333333333332, 37.77777777777778, 100.0]\n",
      "[32.0, 53.6, 93.2, 212.0]\n",
      "[0.0, 18.333333333333332, 37.77777777777778, 100.0]\n",
      "[32.0, 53.6, 93.2, 212.0]\n"
     ]
    }
   ],
   "source": [
    "# Use lambdas as in-place functions\n",
    "\n",
    "\n",
    "def CelsisusToFahrenheit(temp):\n",
    "    return (temp * 9/5) + 32\n",
    "\n",
    "def FahrenheitToCelsisus(temp):\n",
    "    return (temp-32) * 5/9\n",
    "\n",
    "\n",
    "def main():\n",
    "    ctemps = [0, 12, 34, 100]\n",
    "    ftemps = [32, 65, 100, 212]\n",
    "\n",
    "    # Use regular functions to convert temps\n",
    "    print(list(map(FahrenheitToCelsisus, ftemps)))\n",
    "    print(list(map(CelsisusToFahrenheit, ctemps)))\n",
    "\n",
    "    # Use lambdas to accomplish the same thing\n",
    "    print(list(map(lambda t: (t-32) * 5/9, ftemps)))\n",
    "    print(list(map(lambda t: (t * 9/5) + 32, ctemps)))\n",
    "\n",
    "\n",
    "if __name__ == \"__main__\":\n",
    "    main()\n"
   ]
  },
  {
   "cell_type": "markdown",
   "metadata": {},
   "source": [
    "\n",
    "# Named Tuple\n"
   ]
  },
  {
   "cell_type": "code",
   "execution_count": 2,
   "metadata": {},
   "outputs": [
    {
     "name": "stdout",
     "output_type": "stream",
     "text": [
      "Point(x=10, y=20) Point(x=30, y=40)\n",
      "10 20\n",
      "Point(x=100, y=20)\n"
     ]
    }
   ],
   "source": [
    "# Demonstrate the usage of namedtuple objects\n",
    "\n",
    "import collections\n",
    "\n",
    "\n",
    "def main():\n",
    "    # create a Point namedtuple\n",
    "    Point = collections.namedtuple(\"Point\", \"x y\")\n",
    "\n",
    "    p1 = Point(10, 20)\n",
    "    p2 = Point(30, 40)\n",
    "\n",
    "    print(p1, p2)\n",
    "    print(p1.x, p1.y)\n",
    "\n",
    "    # use _replace to create a new instance\n",
    "    p1 = p1._replace(x=100)\n",
    "    print(p1)\n",
    "\n",
    "\n",
    "if __name__ == \"__main__\":\n",
    "    main()\n"
   ]
  }
 ],
 "metadata": {
  "kernelspec": {
   "display_name": "Python 3",
   "language": "python",
   "name": "python3"
  },
  "language_info": {
   "codemirror_mode": {
    "name": "ipython",
    "version": 3
   },
   "file_extension": ".py",
   "mimetype": "text/x-python",
   "name": "python",
   "nbconvert_exporter": "python",
   "pygments_lexer": "ipython3",
   "version": "3.6.6"
  }
 },
 "nbformat": 4,
 "nbformat_minor": 2
}
