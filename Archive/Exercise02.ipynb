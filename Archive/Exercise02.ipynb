{
 "cells": [
  {
   "cell_type": "markdown",
   "metadata": {},
   "source": [
    "# Exercise 02\n",
    "\n",
    "Implement a function that takes following 2 matrices as input, and returns their multiplication result. Print the matrix in calling function\n",
    "\n",
    "Input Data: \n",
    "Matrix X [[1,2,3],[4,5,6],[7,8,9]] \n",
    "Matrix Y [[3,2,1],[6,5,4],[9,8,7]]\n"
   ]
  },
  {
   "cell_type": "code",
   "execution_count": null,
   "metadata": {},
   "outputs": [],
   "source": [
    "def main():\n",
    "    # 3x3 matrix\n",
    "    X = [[1,1,1], [1,1,1], [1,1,1]]\n",
    "    Y = [[1,1,1], [1,1,1], [1,1,1]]\n",
    "    \n",
    "    result = matrix_mult(X, Y)\n",
    "    \n",
    "    for r in result:\n",
    "        print(r)\n",
    "        \n",
    "    result = matrix_mult_np(X, Y)\n",
    "    \n",
    "    for r in result:\n",
    "        print(r)\n",
    "\n",
    "def matrix_mult(X, Y):\n",
    "    \n",
    "    if len(X[0]) != len(Y) : # number of columns in M1 = number of rows in M2\n",
    "        raise Exception('Incompatible Matrices')\n",
    "    \n",
    "    # create results array\n",
    "    result = [0] * len(Y[0])\n",
    "    for i in range(len(X)):\n",
    "        result[i] = [0] * len(Y[0])\n",
    "    \n",
    "    for i in range(len(X)):           # iterate through rows of X\n",
    "        for j in range(len(Y[0])):    # iterate through columns of Y\n",
    "            for k in range(len(Y)):   # iterate through rows of Y\n",
    "                result[i][j] += X[i][k] * Y[k][j]\n",
    "                \n",
    "    return result\n",
    "\n",
    "import numpy as np\n",
    "def matrix_mult_np(X, Y):\n",
    "    return np.matmul(X, Y)\n",
    "\n",
    "if __name__ == '__main__': main()"
   ]
  }
 ],
 "metadata": {
  "kernelspec": {
   "display_name": "Python 3",
   "language": "python",
   "name": "python3"
  },
  "language_info": {
   "codemirror_mode": {
    "name": "ipython",
    "version": 3
   },
   "file_extension": ".py",
   "mimetype": "text/x-python",
   "name": "python",
   "nbconvert_exporter": "python",
   "pygments_lexer": "ipython3",
   "version": "3.6.6"
  }
 },
 "nbformat": 4,
 "nbformat_minor": 2
}
