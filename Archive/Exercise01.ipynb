{
 "cells": [
  {
   "cell_type": "markdown",
   "metadata": {},
   "source": [
    "# Exercise 01\n",
    "\n",
    "Implement a function that takes the following tuple as input, and returns the first 5 even numbers as a list. \n",
    "Print the numbers contained in the list in calling function\n",
    "\n",
    "Input Data: (1, 2, 3, 4, 5, 6, 7, 8, 9, 10, 11, 12, 13, 14)\n",
    "\n",
    "Hint: # of elements in list can be obtained using len(list) function "
   ]
  },
  {
   "cell_type": "code",
   "execution_count": null,
   "metadata": {},
   "outputs": [],
   "source": [
    "#!/usr/bin/env python3\n",
    "\n",
    "def main():\n",
    "    data = (1, 2, 3, 4, 5, 6, 7, 8, 9, 10, 11, 12, 13, 14)\n",
    "    even = get_even_numbers(data)\n",
    "    print(even)\n",
    "\n",
    "def get_even_numbers(data):\n",
    "    evenNos = []         \n",
    "    for n in data:\n",
    "        if n % 2 == 0:\n",
    "            evenNos.append(n)\n",
    "        if len(evenNos) >= 5:\n",
    "            break;\n",
    "    return evenNos\n",
    "\n",
    "if __name__ == '__main__': main()"
   ]
  }
 ],
 "metadata": {
  "kernelspec": {
   "display_name": "Python 3",
   "language": "python",
   "name": "python3"
  },
  "language_info": {
   "codemirror_mode": {
    "name": "ipython",
    "version": 3
   },
   "file_extension": ".py",
   "mimetype": "text/x-python",
   "name": "python",
   "nbconvert_exporter": "python",
   "pygments_lexer": "ipython3",
   "version": "3.6.6"
  }
 },
 "nbformat": 4,
 "nbformat_minor": 2
}
